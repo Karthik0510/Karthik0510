{
  "cells": [
    {
      "cell_type": "markdown",
      "metadata": {
        "id": "view-in-github",
        "colab_type": "text"
      },
      "source": [
        "<a href=\"https://colab.research.google.com/github/Karthik0510/Karthik0510/blob/main/Untitled6.ipynb\" target=\"_parent\"><img src=\"https://colab.research.google.com/assets/colab-badge.svg\" alt=\"Open In Colab\"/></a>"
      ]
    },
    {
      "cell_type": "code",
      "execution_count": null,
      "metadata": {
        "id": "XMFVVLnj3UJX"
      },
      "outputs": [],
      "source": [
        "from bs4 import BeautifulSoup"
      ]
    },
    {
      "cell_type": "code",
      "execution_count": null,
      "metadata": {
        "id": "DDB4eWOI9rEf"
      },
      "outputs": [],
      "source": [
        "link=\"https://goldsgym.in/\""
      ]
    },
    {
      "cell_type": "code",
      "execution_count": null,
      "metadata": {
        "id": "G9O4OqER9rG_"
      },
      "outputs": [],
      "source": [
        "robotlink=link+\"robots.txt\""
      ]
    },
    {
      "cell_type": "code",
      "execution_count": null,
      "metadata": {
        "id": "GqqGkUxFS-Sa"
      },
      "outputs": [],
      "source": [
        "import os\n",
        "import re\n",
        "\n",
        "import pandas as pd\n",
        "from bs4 import BeautifulSoup\n",
        "from googleapiclient.discovery import build\n",
        "\n",
        "from selenium import webdriver\n",
        "from selenium.common import TimeoutException\n",
        "from selenium.webdriver.chrome.options import Options\n",
        "from selenium.webdriver.chrome.service import Service\n",
        "from selenium.webdriver.common.by import By\n",
        "from selenium.webdriver.support import expected_conditions as EC\n",
        "from selenium.webdriver.support.wait import WebDriverWait\n",
        "\n",
        "\n",
        "chrome_options = Options()\n",
        "chrome_options.add_argument(\"--headless\")\n",
        "chrome_options.add_argument(\"--no-sandbox\")\n",
        "chrome_options.add_argument(\"--disable-dev-shm-usage\")\n",
        "chrome_options.add_argument(\"--disable-gpu\")\n",
        "chrome_options.add_argument(\"--disable-extensions\")\n",
        "chrome_options.add_argument(\"--disable-infobars\")"
      ]
    },
    {
      "cell_type": "code",
      "execution_count": null,
      "metadata": {
        "id": "LDOwtzLILETA"
      },
      "outputs": [],
      "source": [
        "import re\n",
        "\n",
        "# Sample stringxml_content\n",
        "def lis(sample_string):\n",
        "\n",
        "  # Regular expression pattern to match HTTP links\n",
        "  pattern = r'http[s]?://(?:[a-zA-Z]|[0-9]|[$-_@.&+]|[!*\\\\(\\\\),]|(?:%[0-9a-fA-F][0-9a-fA-F]))+'\n",
        "\n",
        "  # Find all matches of the pattern in the string\n",
        "  http_links = re.findall(pattern, sample_string)\n",
        "\n",
        "  # Print all HTTP links\n",
        "  output=[]\n",
        "  for i in range(len(http_links)):\n",
        "    if \"image\" not in http_links[i]:\n",
        "      output.append(http_links[i][:-6])\n",
        "\n",
        "\n",
        "\n",
        "  return output\n",
        "\n"
      ]
    },
    {
      "cell_type": "code",
      "execution_count": null,
      "metadata": {
        "id": "TOtjGL3g-_KH"
      },
      "outputs": [],
      "source": [
        "import re\n",
        "\n",
        "def xml(html_content):\n",
        "  # Define a regular expression pattern to match the sitemap URLs\n",
        "  pattern = r'(https?://\\S+\\.xml)'\n",
        "\n",
        "  # Find all matches of the pattern in the content\n",
        "  matches = re.findall(pattern, html_content)\n",
        "  return matches"
      ]
    },
    {
      "cell_type": "code",
      "execution_count": null,
      "metadata": {
        "id": "ALIP0bLwRK9X",
        "colab": {
          "base_uri": "https://localhost:8080/"
        },
        "outputId": "3319ce01-21e5-41aa-ae5b-94debe74ff0f"
      },
      "outputs": [
        {
          "output_type": "stream",
          "name": "stdout",
          "text": [
            "Reading package lists... Done\n",
            "Building dependency tree... Done\n",
            "Reading state information... Done\n",
            "chromium-chromedriver is already the newest version (1:85.0.4183.83-0ubuntu2.22.04.1).\n",
            "0 upgraded, 0 newly installed, 0 to remove and 45 not upgraded.\n"
          ]
        }
      ],
      "source": [
        "!pip install selenium\n",
        "!apt-get update\n",
        "!apt install chromium-chromedriver\n",
        "from selenium import webdriver\n",
        "\n",
        "chrome_options = webdriver.ChromeOptions()\n",
        "chrome_options.add_argument('--headless')\n",
        "chrome_options.add_argument('--no-sandbox')\n",
        "chrome_options.add_argument('--disable-dev-shm-usage')\n",
        "\n",
        "# Use the 'options' argument instead of 'chrome_options'\n",
        "driver = webdriver.Chrome(options=chrome_options)"
      ]
    },
    {
      "cell_type": "code",
      "execution_count": null,
      "metadata": {
        "id": "yPHkEErzSw_7"
      },
      "outputs": [],
      "source": [
        "import os"
      ]
    },
    {
      "cell_type": "code",
      "execution_count": null,
      "metadata": {
        "id": "NoMG1CrWKGeZ"
      },
      "outputs": [],
      "source": [
        "\n",
        "os.environ[\"GOOGLE_CSE_ID\"] = GOOGLE_CSE_ID\n",
        "os.environ[\"GOOGLE_API_KEY\"] = GOOGLE_API_KEY\n",
        "import requests\n",
        "import time\n",
        "\n",
        "def content(link):\n",
        "    response = requests.get(link)\n",
        "    time.sleep(5)\n",
        "    html_content = response.text\n",
        "    return html_content\n",
        "\n",
        "x=content(robotlink)\n",
        "\n",
        "\n",
        "import time\n",
        "\n",
        "output=[]\n",
        "if xml(x)==[]:\n",
        "    sitemap=extract_http_links(x)\n",
        "    output=sitemap\n",
        "    print(sitemap)\n",
        "else:\n",
        "  for i in xml(x):\n",
        "    sitemaps=xml(i)\n",
        "\n",
        "    for j in sitemaps:\n",
        "      jcontent=content(j)\n",
        "      allxmllinks=xml(jcontent)\n",
        "      # print(allxmllinks)\n",
        "      for k in allxmllinks:\n",
        "        icontent=content(k)\n",
        "        all_links=lis(icontent)\n",
        "        for i in all_links:\n",
        "          output.append(all_links)\n",
        "\n",
        "print(output)\n",
        "\n"
      ]
    },
    {
      "cell_type": "code",
      "execution_count": null,
      "metadata": {
        "id": "4LQ6mhSSE3HV"
      },
      "outputs": [],
      "source": [
        "links = [\n",
        "    \"https://goldsgym.in/contact/\",\n",
        "    \"https://www.lamborghini-singen.com/about-us/meet-the-team/\",\n",
        "    \"https://goldsgym.in/gymcourse/#faculity\",\n",
        "    \"https://goldsgym.in/contact/\"\n",
        "]\n",
        "#links=output\n",
        "pattern = re.compile(r'(team|meet the team|staff|about us|contact|faculity)', re.IGNORECASE)\n",
        "\n",
        "# Function to filter links based on the pattern\n",
        "def filter_links(links, pattern):\n",
        "    filtered_links = [link for link in links if pattern.search(link)]\n",
        "    return filtered_links\n",
        "\n",
        "# Filter the links\n",
        "filtered_links = filter_links(links, pattern)\n",
        "\n",
        "# Print the filtered links\n",
        "for link in filtered_links:\n",
        "    print(link)"
      ]
    },
    {
      "cell_type": "markdown",
      "metadata": {
        "id": "MMzPq3RXFSH6"
      },
      "source": [
        "to extract meet the team links and contaact links"
      ]
    }
  ],
  "metadata": {
    "colab": {
      "provenance": [],
      "authorship_tag": "ABX9TyMKf/1PklPAdB8WzCR/XYsR",
      "include_colab_link": true
    },
    "kernelspec": {
      "display_name": "Python 3",
      "name": "python3"
    },
    "language_info": {
      "name": "python"
    }
  },
  "nbformat": 4,
  "nbformat_minor": 0
}